{
 "cells": [
  {
   "cell_type": "code",
   "execution_count": 9,
   "metadata": {},
   "outputs": [
    {
     "name": "stdout",
     "output_type": "stream",
     "text": [
      "110\n"
     ]
    }
   ],
   "source": [
    "\n",
    "def sum_list(list_num, list_num2):\n",
    "    sum = 0 \n",
    "    for n in list_num:\n",
    "        sum = sum + n\n",
    "    for n2 in list_num2:\n",
    "        sum = sum + n2\n",
    "\n",
    "    return(sum)\n",
    "    \n",
    "\n",
    "list_num = [   \n",
    "  1, 2, 3, 4, 5, 6, 7, 8, 9, 10\n",
    "]\n",
    "list_num2 = [   \n",
    "  1, 2, 3, 4, 5, 6, 7, 8, 9, 10\n",
    "]\n",
    "print(sum_list(list_num, list_num2))"
   ]
  },
  {
   "cell_type": "code",
   "execution_count": 25,
   "metadata": {},
   "outputs": [
    {
     "name": "stdout",
     "output_type": "stream",
     "text": [
      "[1, 3, 5, 7, 9]    <-- odd and even -->    [2, 4, 6, 8, 10]\n"
     ]
    }
   ],
   "source": [
    "def even_odd(list1):\n",
    "    even_num = []\n",
    "    odd_num = []\n",
    "    for n in list1:\n",
    "        if n % 2 == 0:\n",
    "            even_num.append(n) \n",
    "        else:\n",
    "            odd_num.append(n) \n",
    "    return(f'{odd_num}    <-- odd and even -->    {even_num}')\n",
    "    \n",
    "\n",
    "list1 = [   \n",
    "  1, 2, 3, 4, 5, 6, 7, 8, 9, 10\n",
    "]\n",
    "print(even_odd(list1))"
   ]
  },
  {
   "cell_type": "code",
   "execution_count": 64,
   "metadata": {},
   "outputs": [
    {
     "name": "stdout",
     "output_type": "stream",
     "text": [
      "wrong name\n"
     ]
    }
   ],
   "source": [
    "def dublicate(list_names, name):\n",
    "    storage = 0\n",
    "    if name in list_names:\n",
    "        for object in list_names:\n",
    "            if object == name:\n",
    "                storage = storage + 1\n",
    "    else:\n",
    "        storage = \"No name found in the list\"\n",
    "            \n",
    "        \n",
    "    return (f'{name} : {storage} ')\n",
    "\n",
    "\n",
    "\n",
    "list_names = [\n",
    "    \"Bob\",\n",
    "    \"Anna\",\n",
    "    \"John\",\n",
    "    \"Emma\",\n",
    "    \"Bob\",2,45,5,3,5,\n",
    "    \"John\",\n",
    "    \"Bob\",\n",
    "    \"John\",\n",
    "    \"Bob\",\n",
    "    \"Bob\",\n",
    "    \"Emma\",\n",
    "]\n",
    "name = \"Emma\"\n",
    "inp = \n",
    "\n",
    "try:\n",
    "    print(dublicate(list_names, no))\n",
    "except NameError:\n",
    "    print( \"wrong name\")\n"
   ]
  },
  {
   "cell_type": "code",
   "execution_count": 62,
   "metadata": {},
   "outputs": [
    {
     "name": "stdout",
     "output_type": "stream",
     "text": [
      "dumm ass\n"
     ]
    }
   ],
   "source": [
    "try:\n",
    "    word = 'hello'\n",
    "    word[0] = 'M'\n",
    "except Exception:\n",
    "    print('dumm ass')\n"
   ]
  },
  {
   "cell_type": "code",
   "execution_count": 70,
   "metadata": {},
   "outputs": [
    {
     "name": "stdout",
     "output_type": "stream",
     "text": [
      "[1, 2]\n"
     ]
    }
   ],
   "source": [
    "def sum_list(lst_numbers):\n",
    "    storage = 0\n",
    "    for num in lst_numbers:\n",
    "        storage += num\n",
    "\n",
    "    return storage\n",
    "\n",
    "inp = [\n",
    "    1,\n",
    "    2,\n",
    "    \"Bob\",\n",
    "    ['another', 'list']\n",
    "]\n",
    "\n",
    "# Handle this exception and print('You input is not correct')\n",
    "try:\n",
    "    print(sum_list(inp))\n",
    "except TypeError:\n",
    "    inp_clean = []\n",
    "    for i in inp:\n",
    "        if isinstance(i, int):\n",
    "            inp_clean.append(i)\n",
    "    inp = (inp_clean)\n",
    "            # code ...\n",
    "            # print('Your input: \"Bob\" is not correct')\n",
    "            # print('Your input: ['another', 'list'] is not correct')\n",
    "        # print(type(i))\n",
    "    print(inp)\n"
   ]
  },
  {
   "cell_type": "code",
   "execution_count": 74,
   "metadata": {},
   "outputs": [
    {
     "ename": "TypeError",
     "evalue": "unsupported operand type(s) for /: 'str' and 'int'",
     "output_type": "error",
     "traceback": [
      "\u001b[0;31m---------------------------------------------------------------------------\u001b[0m",
      "\u001b[0;31mTypeError\u001b[0m                                 Traceback (most recent call last)",
      "Cell \u001b[0;32mIn[74], line 5\u001b[0m\n\u001b[1;32m      2\u001b[0m     \u001b[38;5;28;01mreturn\u001b[39;00m \u001b[38;5;28mint\u001b[39m((celcius_temp \u001b[38;5;241m*\u001b[39m \u001b[38;5;241m9\u001b[39m\u001b[38;5;241m/\u001b[39m\u001b[38;5;241m5\u001b[39m) \u001b[38;5;241m+\u001b[39m \u001b[38;5;241m32\u001b[39m)\n\u001b[1;32m      3\u001b[0m inp \u001b[38;5;241m=\u001b[39m \u001b[38;5;124m'\u001b[39m\u001b[38;5;124msdf\u001b[39m\u001b[38;5;124m'\u001b[39m\n\u001b[0;32m----> 5\u001b[0m \u001b[38;5;28mprint\u001b[39m(\u001b[43mconverter\u001b[49m\u001b[43m(\u001b[49m\u001b[43minp\u001b[49m\u001b[43m)\u001b[49m)\n",
      "Cell \u001b[0;32mIn[74], line 2\u001b[0m, in \u001b[0;36mconverter\u001b[0;34m(celcius_temp)\u001b[0m\n\u001b[1;32m      1\u001b[0m \u001b[38;5;28;01mdef\u001b[39;00m \u001b[38;5;21mconverter\u001b[39m(celcius_temp):\n\u001b[0;32m----> 2\u001b[0m     \u001b[38;5;28;01mreturn\u001b[39;00m \u001b[38;5;28mint\u001b[39m((\u001b[43mcelcius_temp\u001b[49m\u001b[43m \u001b[49m\u001b[38;5;241;43m*\u001b[39;49m\u001b[43m \u001b[49m\u001b[38;5;241;43m9\u001b[39;49m\u001b[38;5;241;43m/\u001b[39;49m\u001b[38;5;241;43m5\u001b[39;49m) \u001b[38;5;241m+\u001b[39m \u001b[38;5;241m32\u001b[39m)\n",
      "\u001b[0;31mTypeError\u001b[0m: unsupported operand type(s) for /: 'str' and 'int'"
     ]
    }
   ],
   "source": [
    "def converter(celcius_temp):\n",
    "    return int((celcius_temp * 9/5) + 32)\n",
    "inp = 'sdf'\n",
    "try:\n",
    "    print(converter(inp))\n",
    "except TypeError:\n",
    "    print(f'invalid input data type: {type(inp)}. Expected intiger' )\n"
   ]
  },
  {
   "cell_type": "code",
   "execution_count": null,
   "metadata": {},
   "outputs": [],
   "source": []
  }
 ],
 "metadata": {
  "kernelspec": {
   "display_name": "Python 3",
   "language": "python",
   "name": "python3"
  },
  "language_info": {
   "codemirror_mode": {
    "name": "ipython",
    "version": 3
   },
   "file_extension": ".py",
   "mimetype": "text/x-python",
   "name": "python",
   "nbconvert_exporter": "python",
   "pygments_lexer": "ipython3",
   "version": "3.11.9"
  }
 },
 "nbformat": 4,
 "nbformat_minor": 2
}
